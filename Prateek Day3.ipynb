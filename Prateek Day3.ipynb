{
 "cells": [
  {
   "cell_type": "code",
   "execution_count": null,
   "id": "9fef9711",
   "metadata": {},
   "outputs": [],
   "source": [
    "introduction to f strings"
   ]
  },
  {
   "cell_type": "code",
   "execution_count": null,
   "id": "6489ec54",
   "metadata": {},
   "outputs": [],
   "source": [
    "# general Syntax of f Strings:"
   ]
  },
  {
   "cell_type": "code",
   "execution_count": null,
   "id": "60e96d85",
   "metadata": {},
   "outputs": [],
   "source": [
    "f\" custom words {placeholder1} {placeholder2}........{placeholdern}\""
   ]
  },
  {
   "cell_type": "code",
   "execution_count": null,
   "id": "fce947f9",
   "metadata": {},
   "outputs": [],
   "source": []
  },
  {
   "cell_type": "code",
   "execution_count": 4,
   "id": "0477aad6",
   "metadata": {},
   "outputs": [],
   "source": [
    "firstname = 'prateek'\n",
    "lastname = 'bheevgade'"
   ]
  },
  {
   "cell_type": "code",
   "execution_count": null,
   "id": "72ae421e",
   "metadata": {},
   "outputs": [],
   "source": []
  },
  {
   "cell_type": "code",
   "execution_count": 2,
   "id": "2c0ac4d9",
   "metadata": {},
   "outputs": [],
   "source": [
    "#req : i want to get  the fullname?"
   ]
  },
  {
   "cell_type": "code",
   "execution_count": 5,
   "id": "c9f5cfd9",
   "metadata": {},
   "outputs": [
    {
     "name": "stdout",
     "output_type": "stream",
     "text": [
      "prateek bheevgade\n"
     ]
    }
   ],
   "source": [
    "fullname = f\"{firstname} {lastname}\"\n",
    "\n",
    "print(fullname)"
   ]
  },
  {
   "cell_type": "code",
   "execution_count": null,
   "id": "100f4966",
   "metadata": {},
   "outputs": [],
   "source": []
  },
  {
   "cell_type": "code",
   "execution_count": 6,
   "id": "20e35464",
   "metadata": {},
   "outputs": [
    {
     "name": "stdout",
     "output_type": "stream",
     "text": [
      "Prateek Bheevgade\n"
     ]
    }
   ],
   "source": [
    "print(fullname.title())  #.title  is to make the initial letter Capital.\n"
   ]
  },
  {
   "cell_type": "code",
   "execution_count": 7,
   "id": "e68fa2d7",
   "metadata": {},
   "outputs": [],
   "source": [
    "#req : i want to appreciate Prateek for sending the running notes to me daily.\n"
   ]
  },
  {
   "cell_type": "code",
   "execution_count": 8,
   "id": "a897fa06",
   "metadata": {},
   "outputs": [
    {
     "name": "stdout",
     "output_type": "stream",
     "text": [
      "keep up the good work, custom words Prateek Bheevgade\n"
     ]
    }
   ],
   "source": [
    "message = f\"keep up the good work, custom words {fullname.title()}\"\n",
    "\n",
    "print(message)"
   ]
  },
  {
   "cell_type": "code",
   "execution_count": null,
   "id": "aa7341b3",
   "metadata": {},
   "outputs": [],
   "source": []
  },
  {
   "cell_type": "code",
   "execution_count": 20,
   "id": "3abc9cd0",
   "metadata": {},
   "outputs": [],
   "source": [
    "# Adding whitespace to string s: "
   ]
  },
  {
   "cell_type": "code",
   "execution_count": 11,
   "id": "41fa9739",
   "metadata": {},
   "outputs": [
    {
     "name": "stdout",
     "output_type": "stream",
     "text": [
      "favouriate_language:pythonc++javaswiftkotlin\n"
     ]
    }
   ],
   "source": [
    "print(\"favouriate_language:pythonc++javaswiftkotlin\")"
   ]
  },
  {
   "cell_type": "code",
   "execution_count": 13,
   "id": "c98adbb2",
   "metadata": {},
   "outputs": [
    {
     "name": "stdout",
     "output_type": "stream",
     "text": [
      "favouriate_language:\n",
      "python\n",
      "c++\n",
      "java\n",
      "swift\n",
      "kotlin\n"
     ]
    }
   ],
   "source": [
    "print(\"favouriate_language:\\npython\\nc++\\njava\\nswift\\nkotlin\")"
   ]
  },
  {
   "cell_type": "code",
   "execution_count": 21,
   "id": "0e91abe8",
   "metadata": {},
   "outputs": [],
   "source": [
    "# \\n----> new line delimiter "
   ]
  },
  {
   "cell_type": "code",
   "execution_count": 19,
   "id": "9efba52d",
   "metadata": {},
   "outputs": [],
   "source": [
    "# \\t ----> tab delimiter "
   ]
  },
  {
   "cell_type": "code",
   "execution_count": 16,
   "id": "b98bba7b",
   "metadata": {},
   "outputs": [
    {
     "name": "stdout",
     "output_type": "stream",
     "text": [
      "favouriate_language:\n",
      "\tpython\n",
      "\n",
      "\tc++\n",
      "\n",
      "\tjava\n",
      "\n",
      "\tswift\n",
      "\n",
      "\tkotlin\n"
     ]
    }
   ],
   "source": [
    "print(\"favouriate_language:\\n\\tpython\\n\\n\\tc++\\n\\n\\tjava\\n\\n\\tswift\\n\\n\\tkotlin\")"
   ]
  },
  {
   "cell_type": "code",
   "execution_count": null,
   "id": "5b52d122",
   "metadata": {},
   "outputs": [],
   "source": []
  },
  {
   "cell_type": "code",
   "execution_count": null,
   "id": "08549857",
   "metadata": {},
   "outputs": [],
   "source": []
  },
  {
   "cell_type": "code",
   "execution_count": 18,
   "id": "76a9a477",
   "metadata": {},
   "outputs": [],
   "source": [
    "# removing whitespaces from strings: "
   ]
  },
  {
   "cell_type": "code",
   "execution_count": 22,
   "id": "4acb2ffa",
   "metadata": {},
   "outputs": [
    {
     "name": "stdout",
     "output_type": "stream",
     "text": [
      "Prateek\n"
     ]
    }
   ],
   "source": [
    "name = 'Prateek'\n",
    "\n",
    "print(name)"
   ]
  },
  {
   "cell_type": "code",
   "execution_count": null,
   "id": "943b4836",
   "metadata": {},
   "outputs": [],
   "source": []
  },
  {
   "cell_type": "code",
   "execution_count": 23,
   "id": "0ad3fa77",
   "metadata": {},
   "outputs": [
    {
     "name": "stdout",
     "output_type": "stream",
     "text": [
      "  python\n"
     ]
    }
   ],
   "source": [
    "name2 = '  python' #left side\n",
    "\n",
    "print(name2)"
   ]
  },
  {
   "cell_type": "code",
   "execution_count": 24,
   "id": "211c75bd",
   "metadata": {},
   "outputs": [
    {
     "name": "stdout",
     "output_type": "stream",
     "text": [
      "python  \n"
     ]
    }
   ],
   "source": [
    "name3 = 'python  ' #Right side\n",
    "\n",
    "print(name3)"
   ]
  },
  {
   "cell_type": "code",
   "execution_count": 25,
   "id": "f4df8d34",
   "metadata": {},
   "outputs": [
    {
     "data": {
      "text/plain": [
       "'python'"
      ]
     },
     "execution_count": 25,
     "metadata": {},
     "output_type": "execute_result"
    }
   ],
   "source": [
    "name2.lstrip()"
   ]
  },
  {
   "cell_type": "code",
   "execution_count": 26,
   "id": "9c0bcb6f",
   "metadata": {},
   "outputs": [
    {
     "data": {
      "text/plain": [
       "'python'"
      ]
     },
     "execution_count": 26,
     "metadata": {},
     "output_type": "execute_result"
    }
   ],
   "source": [
    "name3.rstrip()"
   ]
  },
  {
   "cell_type": "code",
   "execution_count": 28,
   "id": "a781b3cb",
   "metadata": {},
   "outputs": [
    {
     "name": "stdout",
     "output_type": "stream",
     "text": [
      "python\n"
     ]
    }
   ],
   "source": [
    "name4= 'python'\n",
    "print(name4)"
   ]
  },
  {
   "cell_type": "code",
   "execution_count": null,
   "id": "c6fb20ce",
   "metadata": {},
   "outputs": [],
   "source": []
  }
 ],
 "metadata": {
  "kernelspec": {
   "display_name": "Python 3 (ipykernel)",
   "language": "python",
   "name": "python3"
  },
  "language_info": {
   "codemirror_mode": {
    "name": "ipython",
    "version": 3
   },
   "file_extension": ".py",
   "mimetype": "text/x-python",
   "name": "python",
   "nbconvert_exporter": "python",
   "pygments_lexer": "ipython3",
   "version": "3.9.7"
  }
 },
 "nbformat": 4,
 "nbformat_minor": 5
}
